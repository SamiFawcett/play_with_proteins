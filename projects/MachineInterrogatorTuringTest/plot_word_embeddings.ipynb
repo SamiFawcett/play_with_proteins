{
 "cells": [
  {
   "cell_type": "code",
   "execution_count": 9,
   "id": "6886be59-ce79-4387-b473-7f18a78a2125",
   "metadata": {},
   "outputs": [
    {
     "name": "stderr",
     "output_type": "stream",
     "text": [
      "/home/studio-lab-user/.conda/envs/d2l/lib/python3.9/site-packages/sklearn/manifold/_t_sne.py:982: FutureWarning: The PCA initialization in TSNE will change to have the standard deviation of PC1 equal to 1e-4 in 1.2. This will ensure better convergence.\n",
      "  warnings.warn(\n"
     ]
    },
    {
     "data": {
      "image/png": "[encoded data removed]",
      "text/plain": [
       "<Figure size 432x288 with 1 Axes>"
      ]
     },
     "metadata": {
      "needs_background": "light"
     },
     "output_type": "display_data"
    }
   ],
   "source": [
    "from sklearn.manifold import TSNE\n",
    "import matplotlib.pyplot as plt\n",
    "import numpy as np\n",
    "import seaborn as sns\n",
    "import pandas as pd\n",
    "\n",
    "# t-SNE t-Distributed Stocastic Neighbor Embedding\n",
    "tSne = TSNE(n_components=2, perplexity=30, learning_rate=\"auto\", n_iter=250,\n",
    "            n_iter_without_progress=150, random_state=0, init='pca')\n",
    "\n",
    "X = []\n",
    "embeddings_dir = './'\n",
    "with open(embeddings_dir + 'word_embeds.vec') as f:\n",
    "    vocab_size, embedding_dim = f.readline().split(' ')\n",
    "    for line in f.readlines():\n",
    "        line = line.strip()\n",
    "        coords = line.split(\" \")\n",
    "        embedding = coords[1:]\n",
    "        embedding_coord_float = []\n",
    "        for coord in embedding:\n",
    "            embedding_coord_float.append(float(coord))\n",
    "        X.append(embedding_coord_float)\n",
    "\n",
    "X = np.array(X)\n",
    "tsne_features = tSne.fit_transform(X)\n",
    "x = tsne_features[:, 0]\n",
    "y = tsne_features[:, 1]\n",
    "#z = tsne_features[:, 2]\n",
    "\n",
    "df = pd.DataFrame(dtype=np.float32)\n",
    "df['x'] = x\n",
    "df['y'] = y\n",
    "#df['z'] = z\n",
    "\n",
    "sns.scatterplot(x=\"x\", y=\"y\", data=df)\n",
    "#ax = plt.axes(projection='3d')\n",
    "#ax.scatter3D(x, y, z)\n",
    "plt.show()\n"
   ]
  }
 ],
 "metadata": {
  "interpreter": {
   "hash": "ec1a8765556d4b03020f7453f33dd4de104c411ef3b2521605bbc3fae15db5b9"
  },
  "kernelspec": {
   "display_name": "d2l:Python",
   "language": "python",
   "name": "python3"
  },
  "language_info": {
   "codemirror_mode": {
    "name": "ipython",
    "version": 3
   },
   "file_extension": ".py",
   "mimetype": "text/x-python",
   "name": "python",
   "nbconvert_exporter": "python",
   "pygments_lexer": "ipython3",
   "version": "3.9.1"
  }
 },
 "nbformat": 4,
 "nbformat_minor": 5
}
