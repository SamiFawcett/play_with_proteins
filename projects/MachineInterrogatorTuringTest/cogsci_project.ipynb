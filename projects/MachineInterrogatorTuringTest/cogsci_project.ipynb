{
 "cells": [
  {
   "cell_type": "code",
   "execution_count": 1,
   "id": "238a9725-09e8-45ee-b962-b6218045a998",
   "metadata": {},
   "outputs": [],
   "source": [
    "import requests\n",
    "from bs4 import BeautifulSoup\n",
    "import random\n",
    "import re\n",
    "import json\n",
    "import copy\n",
    "from collections import defaultdict\n",
    "import time\n",
    "from tqdm import tqdm\n",
    "import numpy as np\n",
    "import nltk\n",
    "from nltk.tokenize import word_tokenize\n",
    "from nltk.corpus import stopwords\n",
    "import torch\n",
    "import torch.nn as nn\n",
    "import torch.utils.data as data\n",
    "import torch.optim as optim\n",
    "import torch.nn.functional as F\n",
    "import pandas as pd\n",
    "#nltk.download('punkt')\n",
    "#nltk.download('stopwords')\n"
   ]
  },
  {
   "cell_type": "code",
   "execution_count": 2,
   "id": "b0de3fe2-d3ac-4dc2-9e40-5558c99bb33e",
   "metadata": {},
   "outputs": [
    {
     "name": "stdout",
     "output_type": "stream",
     "text": [
      "Scraping links...\n"
     ]
    },
    {
     "name": "stderr",
     "output_type": "stream",
     "text": [
      "100%|██████████| 10/10 [00:05<00:00,  1.88it/s]\n"
     ]
    },
    {
     "name": "stdout",
     "output_type": "stream",
     "text": [
      "Extracting text...\n"
     ]
    },
    {
     "name": "stderr",
     "output_type": "stream",
     "text": [
      "100%|██████████| 10/10 [00:04<00:00,  2.32it/s]\n"
     ]
    },
    {
     "name": "stdout",
     "output_type": "stream",
     "text": [
      "Cleaning...\n"
     ]
    },
    {
     "name": "stderr",
     "output_type": "stream",
     "text": [
      "100%|██████████| 18986/18986 [00:00<00:00, 1713939.47it/s]\n"
     ]
    }
   ],
   "source": [
    "####WIKIPEDIA SCRAPING#####\n",
    "response = requests.get('https://en.wikipedia.org/wiki/Machine_learning')\n",
    "html = response.text\n",
    "soup = BeautifulSoup(html, 'html.parser')\n",
    "stop_words = set(stopwords.words('english'))\n",
    "\n",
    "# get random wikipedia corpus\n",
    "alllinks = []\n",
    "num_links = 0\n",
    "max_links = 10\n",
    "print(\"Scraping links...\")\n",
    "pbar = tqdm(total = max_links)\n",
    "while(num_links < max_links):\n",
    "    links = []\n",
    "    # Get all the links\n",
    "    for link in soup.findAll('a', attrs={'href': re.compile(\"^/wiki/\")}):\n",
    "        links.append(link.get('href'))\n",
    "    random.shuffle(links)\n",
    "    alllinks.append(links[0])\n",
    "    soup = BeautifulSoup(requests.get(\n",
    "        \"http://en.wikipedia.org\" + links[0]).text, 'html.parser')\n",
    "    num_links += 1\n",
    "    pbar.update(1)\n",
    "pbar.close()\n",
    "alltext = \"\"\n",
    "\n",
    "print(\"Extracting text...\")\n",
    "# put all words into text file\n",
    "for link in tqdm(alllinks):\n",
    "    response = requests.get(\"http://en.wikipedia.org\" + link)\n",
    "    html = response.text\n",
    "    soup = BeautifulSoup(html, 'html.parser')\n",
    "    # extract paragraphs\n",
    "    text_container = soup.find('div', {'class': 'mw-parser-output'})\n",
    "    zero_paragaph = {\"title\": \"\", \"text\": \"\"}\n",
    "    \n",
    "    if(text_container == None):\n",
    "        continue\n",
    "    current_paragraph = copy.deepcopy(zero_paragaph)\n",
    "    page = {'paragraphs': []}\n",
    "    for child in text_container.children:\n",
    "        if child.name == \"p\":\n",
    "            current_paragraph[\"text\"] += child.text + \"\\n\"\n",
    "        elif child.name == \"h2\":\n",
    "            page['paragraphs'].append(current_paragraph)\n",
    "            current_paragraph = copy.deepcopy(zero_paragaph)\n",
    "            current_paragraph[\"title\"] = next(child.children).text\n",
    "\n",
    "        page['paragraphs'] = list(\n",
    "            filter(lambda x: x[\"text\"] != \"\", page['paragraphs']))\n",
    "        \n",
    "    for pg in page['paragraphs']:\n",
    "        alltext += pg['text']\n",
    "        \n",
    "uncleaned_tokens = word_tokenize(alltext)\n",
    "\n",
    "\n",
    "print(\"Cleaning...\")\n",
    "#clean up tokens\n",
    "stop_words = set(stopwords.words('english'))\n",
    "tokens = []\n",
    "for tok in tqdm(uncleaned_tokens):\n",
    "    tok = tok.lower()\n",
    "    if(tok.isalnum() and not tok.isdigit()):\n",
    "        tokens.append(tok)\n",
    "        \n",
    "        \n"
   ]
  },
  {
   "cell_type": "code",
   "execution_count": 3,
   "id": "70e88b95-8dfd-49c9-a184-005db9258b97",
   "metadata": {},
   "outputs": [],
   "source": [
    "#### CORPUS ####\n",
    "class Corpus(torch.utils.data.Dataset):\n",
    "    def __init__(self, tokens, ngrams=1):\n",
    "        self.ngrams = ngrams\n",
    "        self.tokens = tokens  #list of words\n",
    "        self.totlen = len(tokens)\n",
    "        \n",
    "        # vocab will be defined over kmers\n",
    "        self.create_vocab()\n",
    "        \n",
    "        \n",
    "    def create_vocab(self):\n",
    "        self.vocab_freq = defaultdict(float)\n",
    "        st_time = time.time()\n",
    "        for word in self.tokens:\n",
    "            # compute freq of each word\n",
    "            if word in self.vocab_freq:\n",
    "                self.vocab_freq[word] += 1\n",
    "            else:\n",
    "                self.vocab_freq[word] = 1\n",
    "     \n",
    "        \n",
    "        self.vocab = sorted(self.vocab_freq.keys())\n",
    "        \n",
    "        # create forward and reverse index for all the words in vocab\n",
    "        self.word_to_idx = defaultdict(lambda: 0)\n",
    "        self.idx_to_word = defaultdict(lambda: 0)\n",
    "        for idx, w in enumerate(self.vocab):\n",
    "            self.word_to_idx[w] = idx\n",
    "            self.idx_to_word[idx] = w\n",
    "        \n",
    "        self.vocab_prob = np.array([self.vocab_freq[k] for k in self.vocab])\n",
    "        self.vocab_freq_scaler = 0.73\n",
    "        total_freq = float(self.vocab_prob.sum())\n",
    "        self.vocab_prob = self.vocab_prob / total_freq\n",
    "        self.vocab_csum = np.cumsum(self.vocab_prob)\n",
    "        \n",
    "        en_time = time.time()\n",
    "        print(\"corpus construct time (seconds):\", en_time - st_time, \"num tokens:\", total_freq)\n",
    "        \n",
    "    def __len__(self):\n",
    "        return self.totlen\n",
    "    \n",
    "    \n",
    "    def __getitem__(self, index):\n",
    "        if(index >= len(self.tokens) - 15):\n",
    "            return (\n",
    "                torch.tensor([self.word_to_idx[word] for word in self.tokens[index:index+10]]),\n",
    "                torch.tensor([self.word_to_idx[word] for word in self.tokens[index:index+10]]),\n",
    "            )\n",
    "        else:\n",
    "            return (\n",
    "                torch.tensor([self.word_to_idx[word] for word in self.tokens[index:index+10]]),\n",
    "                torch.tensor([self.word_to_idx[word] for word in self.tokens[index+1:index+11]]),\n",
    "            )\n",
    "\n",
    "\n"
   ]
  },
  {
   "cell_type": "code",
   "execution_count": 4,
   "id": "0869804d-5b86-4694-809b-14f6d9706ac2",
   "metadata": {},
   "outputs": [],
   "source": [
    "#### POS/NEG TARGET CONTEXT CREATION ####\n",
    "class NegSampler:\n",
    "    '''generate a block of negative samples from the cumsum array (Cumulative Distribution Function)'''\n",
    "    def __init__(self, csum_ary):\n",
    "        self.csum_ary = csum_ary\n",
    "        self.time = 0.\n",
    "\n",
    "    def get_neg_words(self, num_words):\n",
    "        '''get num_words negative words sampled from cumsum array'''\n",
    "        st_time = time.time()\n",
    "        nprobs = np.random.random(num_words)\n",
    "        neg_words = np.searchsorted(self.csum_ary, nprobs)\n",
    "        en_time = time.time()\n",
    "        self.time += en_time-st_time\n",
    "        return neg_words\n",
    "\n",
    "class PosNegSampler(torch.utils.data.IterableDataset):\n",
    "    '''This class creates a block of positive and negative pairs for word2vec training\n",
    "    The iterable will return a numpy array of target, context and label triples'''\n",
    "    \n",
    "    def __init__(self, C, window_size, neg_samples, block_size):\n",
    "        super(PosNegSampler, self).__init__()\n",
    "        self.window_size = window_size\n",
    "        self.neg_samples = neg_samples\n",
    "        self.time = 0.\n",
    "        self.block_sz = block_size\n",
    "        self.C = C\n",
    "        \n",
    "        self.negsampler = NegSampler(self.C.vocab_csum)\n",
    "                    \n",
    "    def context_data(self, block_sz):\n",
    "        '''generate center word, context word pairs\n",
    "        '''\n",
    "        T = []\n",
    "        C = []\n",
    "        for i, word in enumerate(self.C.tokens):\n",
    "            #get window of words and create target context pairs\n",
    "            start_idx = max(0, i - self.window_size)\n",
    "            end_idx = min(len(self.C.vocab), i + self.window_size + 1)\n",
    "            for j in range(start_idx, end_idx):\n",
    "                if i != j:\n",
    "                    T.append(self.C.word_to_idx[word])\n",
    "                    C.append(self.C.word_to_idx[self.C.tokens[j]])\n",
    "\n",
    "            # return a block of T, C\n",
    "            if len(T) >= block_sz:\n",
    "                yield (T, C)\n",
    "                T, C = [], []\n",
    "                        \n",
    "        # return any remining elements           \n",
    "        yield (T, C)\n",
    "            \n",
    "\n",
    "    def __iter__(self):\n",
    "        '''return one pos word and neq_samples neg words and the labels\n",
    "           use context_data to retrieve a block\n",
    "        '''\n",
    "\n",
    "        st_time = time.time()\n",
    "        \n",
    "        for i, (T, C) in enumerate(self.context_data(self.block_sz)):\n",
    "            Tnp = np.array(T)\n",
    "            Cnp = np.array(C)\n",
    "            L = np.ones(len(T))\n",
    "            yield (Tnp, Cnp, L)\n",
    "            \n",
    "            L = np.zeros(len(T))\n",
    "            N = self.negsampler.get_neg_words(\n",
    "                len(T))\n",
    "            Nnp = np.array(N)\n",
    "            yield (Tnp, Nnp, L)\n",
    "                \n",
    "        en_time = time.time()\n",
    "        self.time += en_time-st_time"
   ]
  },
  {
   "cell_type": "code",
   "execution_count": 5,
   "id": "49eb4912-77a8-44ba-8e48-e4dbfd694d2f",
   "metadata": {},
   "outputs": [],
   "source": [
    "class Word2Vec(nn.Module):\n",
    "    '''The word2vec model to train the word embeddings'''\n",
    "    def __init__(self, embedding_size, vocab_size):\n",
    "        super(Word2Vec, self).__init__()\n",
    "        self.embedding_size = embedding_size\n",
    "        self.T = nn.Embedding(vocab_size, embedding_size)\n",
    "        self.C = nn.Embedding(vocab_size, embedding_size)\n",
    "\n",
    "    def forward(self, target_word, context_word, label):\n",
    "        t = self.T(target_word)\n",
    "        c = self.C(context_word)\n",
    "        out = torch.sum(t * c, dim=1)\n",
    "        return out\n",
    "    \n",
    "    def save_embeddings(self, file_name, idx_to_word):\n",
    "        # average the T and C matrices\n",
    "        W = (net.T.weight.cpu().data.numpy() + net.C.weight.cpu().data.numpy())/2.\n",
    "\n",
    "        with open(file_name, \"w\") as f:\n",
    "            f.write(\"%d %d\\n\" % (len(idx_to_word), self.embedding_size))\n",
    "            for wid, w in idx_to_word.items():\n",
    "                e = ' '.join(map(lambda x: str(x), W[wid]))\n",
    "                f.write(\"%s %s\\n\" % (w, e))\n"
   ]
  },
  {
   "cell_type": "code",
   "execution_count": 6,
   "id": "ee43682b-608e-493e-a820-9f1d866f5c62",
   "metadata": {},
   "outputs": [
    {
     "name": "stdout",
     "output_type": "stream",
     "text": [
      "using device Tesla T4\n",
      "corpus construct time (seconds): 0.005596637725830078 num tokens: 15322.0\n",
      "vocab, device:  2795 cuda\n"
     ]
    },
    {
     "name": "stderr",
     "output_type": "stream",
     "text": [
      "310it [00:00, 639.99it/s]\n"
     ]
    },
    {
     "name": "stdout",
     "output_type": "stream",
     "text": [
      "epoch 0 1276.6990155759395 309 4.118383921212708\n"
     ]
    },
    {
     "name": "stderr",
     "output_type": "stream",
     "text": [
      "310it [00:00, 684.67it/s]\n"
     ]
    },
    {
     "name": "stdout",
     "output_type": "stream",
     "text": [
      "epoch 1 712.2459422808568 309 2.297567555744699\n"
     ]
    },
    {
     "name": "stderr",
     "output_type": "stream",
     "text": [
      "310it [00:00, 699.35it/s]\n"
     ]
    },
    {
     "name": "stdout",
     "output_type": "stream",
     "text": [
      "epoch 2 476.11668389051533 309 1.5358602706145656\n"
     ]
    },
    {
     "name": "stderr",
     "output_type": "stream",
     "text": [
      "310it [00:00, 710.09it/s]\n"
     ]
    },
    {
     "name": "stdout",
     "output_type": "stream",
     "text": [
      "epoch 3 361.9383429140878 309 1.1675430416583477\n"
     ]
    },
    {
     "name": "stderr",
     "output_type": "stream",
     "text": [
      "310it [00:00, 704.08it/s]\n"
     ]
    },
    {
     "name": "stdout",
     "output_type": "stream",
     "text": [
      "epoch 4 295.7968746200265 309 0.9541834665162144\n"
     ]
    },
    {
     "name": "stderr",
     "output_type": "stream",
     "text": [
      "310it [00:00, 715.44it/s]\n"
     ]
    },
    {
     "name": "stdout",
     "output_type": "stream",
     "text": [
      "epoch 5 253.5810178796054 309 0.8180032834825981\n"
     ]
    },
    {
     "name": "stderr",
     "output_type": "stream",
     "text": [
      "310it [00:00, 711.63it/s]\n"
     ]
    },
    {
     "name": "stdout",
     "output_type": "stream",
     "text": [
      "epoch 6 228.17385029532295 309 0.7360446783720095\n"
     ]
    },
    {
     "name": "stderr",
     "output_type": "stream",
     "text": [
      "310it [00:00, 685.25it/s]\n"
     ]
    },
    {
     "name": "stdout",
     "output_type": "stream",
     "text": [
      "epoch 7 207.78039001727402 309 0.6702593226363678\n"
     ]
    },
    {
     "name": "stderr",
     "output_type": "stream",
     "text": [
      "310it [00:00, 704.61it/s]\n"
     ]
    },
    {
     "name": "stdout",
     "output_type": "stream",
     "text": [
      "epoch 8 193.77796570200147 309 0.6250902119419403\n"
     ]
    },
    {
     "name": "stderr",
     "output_type": "stream",
     "text": [
      "310it [00:00, 713.47it/s]\n"
     ]
    },
    {
     "name": "stdout",
     "output_type": "stream",
     "text": [
      "epoch 9 184.57293254599446 309 0.5953965565999821\n"
     ]
    },
    {
     "name": "stderr",
     "output_type": "stream",
     "text": [
      "310it [00:00, 721.26it/s]\n"
     ]
    },
    {
     "name": "stdout",
     "output_type": "stream",
     "text": [
      "epoch 10 177.58950211687463 309 0.5728693616673375\n"
     ]
    },
    {
     "name": "stderr",
     "output_type": "stream",
     "text": [
      "310it [00:00, 715.57it/s]\n"
     ]
    },
    {
     "name": "stdout",
     "output_type": "stream",
     "text": [
      "epoch 11 171.58007669971263 309 0.5534841183861698\n"
     ]
    },
    {
     "name": "stderr",
     "output_type": "stream",
     "text": [
      "310it [00:00, 714.92it/s]\n"
     ]
    },
    {
     "name": "stdout",
     "output_type": "stream",
     "text": [
      "epoch 12 167.23834095843787 309 0.5394785192207673\n"
     ]
    },
    {
     "name": "stderr",
     "output_type": "stream",
     "text": [
      "310it [00:00, 721.65it/s]\n"
     ]
    },
    {
     "name": "stdout",
     "output_type": "stream",
     "text": [
      "epoch 13 164.0709223660749 309 0.5292610398905643\n"
     ]
    },
    {
     "name": "stderr",
     "output_type": "stream",
     "text": [
      "310it [00:00, 724.00it/s]\n"
     ]
    },
    {
     "name": "stdout",
     "output_type": "stream",
     "text": [
      "epoch 14 162.9240228110564 309 0.5255613639066335\n"
     ]
    },
    {
     "name": "stderr",
     "output_type": "stream",
     "text": [
      "310it [00:00, 717.94it/s]\n"
     ]
    },
    {
     "name": "stdout",
     "output_type": "stream",
     "text": [
      "epoch 15 159.6164875824417 309 0.5148918954272312\n"
     ]
    },
    {
     "name": "stderr",
     "output_type": "stream",
     "text": [
      "310it [00:00, 722.41it/s]\n"
     ]
    },
    {
     "name": "stdout",
     "output_type": "stream",
     "text": [
      "epoch 16 157.87150428840297 309 0.5092629170593644\n"
     ]
    },
    {
     "name": "stderr",
     "output_type": "stream",
     "text": [
      "310it [00:00, 719.09it/s]\n"
     ]
    },
    {
     "name": "stdout",
     "output_type": "stream",
     "text": [
      "epoch 17 156.7207372795415 309 0.5055507654178758\n"
     ]
    },
    {
     "name": "stderr",
     "output_type": "stream",
     "text": [
      "310it [00:00, 722.14it/s]\n"
     ]
    },
    {
     "name": "stdout",
     "output_type": "stream",
     "text": [
      "epoch 18 154.27721881068112 309 0.4976684477763907\n"
     ]
    },
    {
     "name": "stderr",
     "output_type": "stream",
     "text": [
      "310it [00:00, 721.38it/s]\n"
     ]
    },
    {
     "name": "stdout",
     "output_type": "stream",
     "text": [
      "epoch 19 155.10556420854047 309 0.5003405297049692\n"
     ]
    },
    {
     "name": "stderr",
     "output_type": "stream",
     "text": [
      "310it [00:00, 716.49it/s]\n"
     ]
    },
    {
     "name": "stdout",
     "output_type": "stream",
     "text": [
      "epoch 20 152.9997748926057 309 0.49354766094388935\n"
     ]
    },
    {
     "name": "stderr",
     "output_type": "stream",
     "text": [
      "310it [00:00, 724.70it/s]\n"
     ]
    },
    {
     "name": "stdout",
     "output_type": "stream",
     "text": [
      "epoch 21 152.50984822218967 309 0.4919672523296441\n"
     ]
    },
    {
     "name": "stderr",
     "output_type": "stream",
     "text": [
      "310it [00:00, 721.46it/s]\n"
     ]
    },
    {
     "name": "stdout",
     "output_type": "stream",
     "text": [
      "epoch 22 152.26834205150047 309 0.4911882001661305\n"
     ]
    },
    {
     "name": "stderr",
     "output_type": "stream",
     "text": [
      "310it [00:00, 725.90it/s]\n"
     ]
    },
    {
     "name": "stdout",
     "output_type": "stream",
     "text": [
      "epoch 23 152.11261438817039 309 0.4906858528650658\n"
     ]
    },
    {
     "name": "stderr",
     "output_type": "stream",
     "text": [
      "310it [00:00, 724.01it/s]\n"
     ]
    },
    {
     "name": "stdout",
     "output_type": "stream",
     "text": [
      "epoch 24 151.16121164573764 309 0.48761681176044397\n"
     ]
    },
    {
     "name": "stderr",
     "output_type": "stream",
     "text": [
      "310it [00:00, 722.17it/s]\n"
     ]
    },
    {
     "name": "stdout",
     "output_type": "stream",
     "text": [
      "epoch 25 150.06077265473346 309 0.4840670085636563\n"
     ]
    },
    {
     "name": "stderr",
     "output_type": "stream",
     "text": [
      "310it [00:00, 724.88it/s]\n"
     ]
    },
    {
     "name": "stdout",
     "output_type": "stream",
     "text": [
      "epoch 26 149.7868127666048 309 0.4831832669890478\n"
     ]
    },
    {
     "name": "stderr",
     "output_type": "stream",
     "text": [
      "310it [00:00, 715.98it/s]\n"
     ]
    },
    {
     "name": "stdout",
     "output_type": "stream",
     "text": [
      "epoch 27 148.3682689968922 309 0.47860731934481354\n"
     ]
    },
    {
     "name": "stderr",
     "output_type": "stream",
     "text": [
      "310it [00:00, 650.75it/s]\n"
     ]
    },
    {
     "name": "stdout",
     "output_type": "stream",
     "text": [
      "epoch 28 147.98666110645658 309 0.4773763261498599\n"
     ]
    },
    {
     "name": "stderr",
     "output_type": "stream",
     "text": [
      "310it [00:00, 709.93it/s]\n"
     ]
    },
    {
     "name": "stdout",
     "output_type": "stream",
     "text": [
      "epoch 29 149.07155921000847 309 0.4808759974516402\n"
     ]
    },
    {
     "name": "stderr",
     "output_type": "stream",
     "text": [
      "310it [00:00, 718.84it/s]\n"
     ]
    },
    {
     "name": "stdout",
     "output_type": "stream",
     "text": [
      "epoch 30 147.31821272455176 309 0.47522004104694116\n"
     ]
    },
    {
     "name": "stderr",
     "output_type": "stream",
     "text": [
      "310it [00:00, 721.11it/s]\n"
     ]
    },
    {
     "name": "stdout",
     "output_type": "stream",
     "text": [
      "epoch 31 147.92076329355206 309 0.47716375255984533\n"
     ]
    },
    {
     "name": "stderr",
     "output_type": "stream",
     "text": [
      "310it [00:00, 723.07it/s]\n"
     ]
    },
    {
     "name": "stdout",
     "output_type": "stream",
     "text": [
      "epoch 32 148.3989126163287 309 0.47870616973009256\n"
     ]
    },
    {
     "name": "stderr",
     "output_type": "stream",
     "text": [
      "310it [00:00, 725.12it/s]\n"
     ]
    },
    {
     "name": "stdout",
     "output_type": "stream",
     "text": [
      "epoch 33 145.990516919318 309 0.4709371513526387\n"
     ]
    },
    {
     "name": "stderr",
     "output_type": "stream",
     "text": [
      "310it [00:00, 717.45it/s]\n"
     ]
    },
    {
     "name": "stdout",
     "output_type": "stream",
     "text": [
      "epoch 34 145.43882072038505 309 0.4691574861947905\n"
     ]
    },
    {
     "name": "stderr",
     "output_type": "stream",
     "text": [
      "310it [00:00, 722.56it/s]\n"
     ]
    },
    {
     "name": "stdout",
     "output_type": "stream",
     "text": [
      "epoch 35 145.02798583616544 309 0.4678322123747272\n"
     ]
    },
    {
     "name": "stderr",
     "output_type": "stream",
     "text": [
      "310it [00:00, 721.46it/s]\n"
     ]
    },
    {
     "name": "stdout",
     "output_type": "stream",
     "text": [
      "epoch 36 144.60694959912033 309 0.4664740309649043\n"
     ]
    },
    {
     "name": "stderr",
     "output_type": "stream",
     "text": [
      "310it [00:00, 718.29it/s]\n"
     ]
    },
    {
     "name": "stdout",
     "output_type": "stream",
     "text": [
      "epoch 37 145.39208231914267 309 0.46900671715852477\n"
     ]
    },
    {
     "name": "stderr",
     "output_type": "stream",
     "text": [
      "310it [00:00, 723.35it/s]\n"
     ]
    },
    {
     "name": "stdout",
     "output_type": "stream",
     "text": [
      "epoch 38 143.98826640928996 309 0.46447827873964503\n"
     ]
    },
    {
     "name": "stderr",
     "output_type": "stream",
     "text": [
      "310it [00:00, 723.86it/s]\n"
     ]
    },
    {
     "name": "stdout",
     "output_type": "stream",
     "text": [
      "epoch 39 143.6808632620754 309 0.46348665568411423\n"
     ]
    },
    {
     "name": "stderr",
     "output_type": "stream",
     "text": [
      "310it [00:00, 718.26it/s]\n"
     ]
    },
    {
     "name": "stdout",
     "output_type": "stream",
     "text": [
      "epoch 40 143.7059962948 309 0.4635677299832258\n"
     ]
    },
    {
     "name": "stderr",
     "output_type": "stream",
     "text": [
      "310it [00:00, 716.03it/s]\n"
     ]
    },
    {
     "name": "stdout",
     "output_type": "stream",
     "text": [
      "epoch 41 142.66639526874064 309 0.46021417828626016\n"
     ]
    },
    {
     "name": "stderr",
     "output_type": "stream",
     "text": [
      "310it [00:00, 718.25it/s]\n"
     ]
    },
    {
     "name": "stdout",
     "output_type": "stream",
     "text": [
      "epoch 42 142.38130328991645 309 0.45929452674166593\n"
     ]
    },
    {
     "name": "stderr",
     "output_type": "stream",
     "text": [
      "310it [00:00, 715.76it/s]\n"
     ]
    },
    {
     "name": "stdout",
     "output_type": "stream",
     "text": [
      "epoch 43 142.85967464314976 309 0.46083766013919275\n"
     ]
    },
    {
     "name": "stderr",
     "output_type": "stream",
     "text": [
      "310it [00:00, 719.17it/s]\n"
     ]
    },
    {
     "name": "stdout",
     "output_type": "stream",
     "text": [
      "epoch 44 142.8360331698714 309 0.4607613973221658\n"
     ]
    },
    {
     "name": "stderr",
     "output_type": "stream",
     "text": [
      "310it [00:00, 726.80it/s]\n"
     ]
    },
    {
     "name": "stdout",
     "output_type": "stream",
     "text": [
      "epoch 45 141.27773220300983 309 0.45573462000970916\n"
     ]
    },
    {
     "name": "stderr",
     "output_type": "stream",
     "text": [
      "310it [00:00, 712.55it/s]\n"
     ]
    },
    {
     "name": "stdout",
     "output_type": "stream",
     "text": [
      "epoch 46 141.22645073361022 309 0.45556919591487166\n"
     ]
    },
    {
     "name": "stderr",
     "output_type": "stream",
     "text": [
      "310it [00:00, 716.06it/s]\n"
     ]
    },
    {
     "name": "stdout",
     "output_type": "stream",
     "text": [
      "epoch 47 141.14964421205386 309 0.4553214329421092\n"
     ]
    },
    {
     "name": "stderr",
     "output_type": "stream",
     "text": [
      "310it [00:00, 724.55it/s]\n"
     ]
    },
    {
     "name": "stdout",
     "output_type": "stream",
     "text": [
      "epoch 48 140.96288761963146 309 0.4547189923213918\n"
     ]
    },
    {
     "name": "stderr",
     "output_type": "stream",
     "text": [
      "310it [00:00, 715.81it/s]\n"
     ]
    },
    {
     "name": "stdout",
     "output_type": "stream",
     "text": [
      "epoch 49 140.17936842329132 309 0.45219151104287525\n"
     ]
    },
    {
     "name": "stderr",
     "output_type": "stream",
     "text": [
      "310it [00:00, 716.71it/s]\n"
     ]
    },
    {
     "name": "stdout",
     "output_type": "stream",
     "text": [
      "epoch 50 140.09416306321774 309 0.45191665504263784\n"
     ]
    },
    {
     "name": "stderr",
     "output_type": "stream",
     "text": [
      "310it [00:00, 711.32it/s]\n"
     ]
    },
    {
     "name": "stdout",
     "output_type": "stream",
     "text": [
      "epoch 51 140.17090198123702 309 0.45216419993947427\n"
     ]
    },
    {
     "name": "stderr",
     "output_type": "stream",
     "text": [
      "310it [00:00, 714.16it/s]\n"
     ]
    },
    {
     "name": "stdout",
     "output_type": "stream",
     "text": [
      "epoch 52 139.68160162111602 309 0.4505858116810194\n"
     ]
    },
    {
     "name": "stderr",
     "output_type": "stream",
     "text": [
      "310it [00:00, 708.83it/s]\n"
     ]
    },
    {
     "name": "stdout",
     "output_type": "stream",
     "text": [
      "epoch 53 138.7530963570045 309 0.4475906334096919\n"
     ]
    },
    {
     "name": "stderr",
     "output_type": "stream",
     "text": [
      "310it [00:00, 716.29it/s]\n"
     ]
    },
    {
     "name": "stdout",
     "output_type": "stream",
     "text": [
      "epoch 54 138.11285589993145 309 0.4455253416126821\n"
     ]
    },
    {
     "name": "stderr",
     "output_type": "stream",
     "text": [
      "310it [00:00, 707.67it/s]\n"
     ]
    },
    {
     "name": "stdout",
     "output_type": "stream",
     "text": [
      "epoch 55 138.87018849665026 309 0.4479683499891944\n"
     ]
    },
    {
     "name": "stderr",
     "output_type": "stream",
     "text": [
      "310it [00:00, 709.09it/s]\n"
     ]
    },
    {
     "name": "stdout",
     "output_type": "stream",
     "text": [
      "epoch 56 138.93141413840362 309 0.44816585205936654\n"
     ]
    },
    {
     "name": "stderr",
     "output_type": "stream",
     "text": [
      "310it [00:00, 708.08it/s]\n"
     ]
    },
    {
     "name": "stdout",
     "output_type": "stream",
     "text": [
      "epoch 57 138.64493399247635 309 0.44724172255637534\n"
     ]
    },
    {
     "name": "stderr",
     "output_type": "stream",
     "text": [
      "310it [00:00, 714.72it/s]\n"
     ]
    },
    {
     "name": "stdout",
     "output_type": "stream",
     "text": [
      "epoch 58 137.85624447453284 309 0.4446975628210737\n"
     ]
    },
    {
     "name": "stderr",
     "output_type": "stream",
     "text": [
      "310it [00:00, 713.77it/s]\n"
     ]
    },
    {
     "name": "stdout",
     "output_type": "stream",
     "text": [
      "epoch 59 137.488634950714 309 0.4435117256474645\n"
     ]
    },
    {
     "name": "stderr",
     "output_type": "stream",
     "text": [
      "310it [00:00, 713.76it/s]\n"
     ]
    },
    {
     "name": "stdout",
     "output_type": "stream",
     "text": [
      "epoch 60 137.22197470365765 309 0.4426515313021215\n"
     ]
    },
    {
     "name": "stderr",
     "output_type": "stream",
     "text": [
      "310it [00:00, 704.70it/s]\n"
     ]
    },
    {
     "name": "stdout",
     "output_type": "stream",
     "text": [
      "epoch 61 137.04602897077953 309 0.4420839644218695\n"
     ]
    },
    {
     "name": "stderr",
     "output_type": "stream",
     "text": [
      "310it [00:00, 713.64it/s]\n"
     ]
    },
    {
     "name": "stdout",
     "output_type": "stream",
     "text": [
      "epoch 62 137.22122435728124 309 0.4426491108299395\n"
     ]
    },
    {
     "name": "stderr",
     "output_type": "stream",
     "text": [
      "310it [00:00, 719.31it/s]\n"
     ]
    },
    {
     "name": "stdout",
     "output_type": "stream",
     "text": [
      "epoch 63 136.83614115506623 309 0.44140690695182655\n"
     ]
    },
    {
     "name": "stderr",
     "output_type": "stream",
     "text": [
      "310it [00:00, 717.47it/s]\n"
     ]
    },
    {
     "name": "stdout",
     "output_type": "stream",
     "text": [
      "epoch 64 136.42060738903265 309 0.4400664754484924\n"
     ]
    },
    {
     "name": "stderr",
     "output_type": "stream",
     "text": [
      "310it [00:00, 720.68it/s]\n"
     ]
    },
    {
     "name": "stdout",
     "output_type": "stream",
     "text": [
      "epoch 65 136.0620061626625 309 0.43890969729891127\n"
     ]
    },
    {
     "name": "stderr",
     "output_type": "stream",
     "text": [
      "310it [00:00, 718.37it/s]\n"
     ]
    },
    {
     "name": "stdout",
     "output_type": "stream",
     "text": [
      "epoch 66 136.44198960082426 309 0.44013545032523954\n"
     ]
    },
    {
     "name": "stderr",
     "output_type": "stream",
     "text": [
      "310it [00:00, 717.52it/s]\n"
     ]
    },
    {
     "name": "stdout",
     "output_type": "stream",
     "text": [
      "epoch 67 136.16506785395654 309 0.4392421543676018\n"
     ]
    },
    {
     "name": "stderr",
     "output_type": "stream",
     "text": [
      "310it [00:00, 717.25it/s]\n"
     ]
    },
    {
     "name": "stdout",
     "output_type": "stream",
     "text": [
      "epoch 68 135.31213536132566 309 0.4364907592300828\n"
     ]
    },
    {
     "name": "stderr",
     "output_type": "stream",
     "text": [
      "310it [00:00, 720.42it/s]\n"
     ]
    },
    {
     "name": "stdout",
     "output_type": "stream",
     "text": [
      "epoch 69 135.76703148327837 309 0.4379581660750915\n"
     ]
    },
    {
     "name": "stderr",
     "output_type": "stream",
     "text": [
      "310it [00:00, 719.96it/s]\n"
     ]
    },
    {
     "name": "stdout",
     "output_type": "stream",
     "text": [
      "epoch 70 135.10413913992627 309 0.43581980367718154\n"
     ]
    },
    {
     "name": "stderr",
     "output_type": "stream",
     "text": [
      "310it [00:00, 716.89it/s]\n"
     ]
    },
    {
     "name": "stdout",
     "output_type": "stream",
     "text": [
      "epoch 71 134.7285446470769 309 0.4346082085389577\n"
     ]
    },
    {
     "name": "stderr",
     "output_type": "stream",
     "text": [
      "310it [00:00, 719.51it/s]\n"
     ]
    },
    {
     "name": "stdout",
     "output_type": "stream",
     "text": [
      "epoch 72 134.78696034638045 309 0.4347966462786466\n"
     ]
    },
    {
     "name": "stderr",
     "output_type": "stream",
     "text": [
      "310it [00:00, 709.24it/s]\n"
     ]
    },
    {
     "name": "stdout",
     "output_type": "stream",
     "text": [
      "epoch 73 134.4298895729879 309 0.4336448050741545\n"
     ]
    },
    {
     "name": "stderr",
     "output_type": "stream",
     "text": [
      "310it [00:00, 718.57it/s]\n"
     ]
    },
    {
     "name": "stdout",
     "output_type": "stream",
     "text": [
      "epoch 74 134.45072520767874 309 0.4337120167989637\n"
     ]
    },
    {
     "name": "stderr",
     "output_type": "stream",
     "text": [
      "310it [00:00, 722.96it/s]\n"
     ]
    },
    {
     "name": "stdout",
     "output_type": "stream",
     "text": [
      "epoch 75 134.53305996305917 309 0.43397761278406183\n"
     ]
    },
    {
     "name": "stderr",
     "output_type": "stream",
     "text": [
      "310it [00:00, 712.18it/s]\n"
     ]
    },
    {
     "name": "stdout",
     "output_type": "stream",
     "text": [
      "epoch 76 134.18732805994992 309 0.4328623485804836\n"
     ]
    },
    {
     "name": "stderr",
     "output_type": "stream",
     "text": [
      "310it [00:00, 721.52it/s]\n"
     ]
    },
    {
     "name": "stdout",
     "output_type": "stream",
     "text": [
      "epoch 77 133.94205471566463 309 0.43207114424407944\n"
     ]
    },
    {
     "name": "stderr",
     "output_type": "stream",
     "text": [
      "310it [00:00, 712.19it/s]\n"
     ]
    },
    {
     "name": "stdout",
     "output_type": "stream",
     "text": [
      "epoch 78 134.3387606798849 309 0.43335084090285453\n"
     ]
    },
    {
     "name": "stderr",
     "output_type": "stream",
     "text": [
      "310it [00:00, 717.39it/s]\n"
     ]
    },
    {
     "name": "stdout",
     "output_type": "stream",
     "text": [
      "epoch 79 134.02532603188732 309 0.4323397613931849\n"
     ]
    },
    {
     "name": "stderr",
     "output_type": "stream",
     "text": [
      "310it [00:00, 710.65it/s]\n"
     ]
    },
    {
     "name": "stdout",
     "output_type": "stream",
     "text": [
      "epoch 80 133.8467275191946 309 0.4317636371586922\n"
     ]
    },
    {
     "name": "stderr",
     "output_type": "stream",
     "text": [
      "310it [00:00, 717.84it/s]\n"
     ]
    },
    {
     "name": "stdout",
     "output_type": "stream",
     "text": [
      "epoch 81 133.76140341884758 309 0.43148839812531475\n"
     ]
    },
    {
     "name": "stderr",
     "output_type": "stream",
     "text": [
      "310it [00:00, 714.34it/s]\n"
     ]
    },
    {
     "name": "stdout",
     "output_type": "stream",
     "text": [
      "epoch 82 133.15837587827102 309 0.4295431479944226\n"
     ]
    },
    {
     "name": "stderr",
     "output_type": "stream",
     "text": [
      "310it [00:00, 717.28it/s]\n"
     ]
    },
    {
     "name": "stdout",
     "output_type": "stream",
     "text": [
      "epoch 83 132.69827226589516 309 0.42805894279321016\n"
     ]
    },
    {
     "name": "stderr",
     "output_type": "stream",
     "text": [
      "310it [00:00, 719.97it/s]\n"
     ]
    },
    {
     "name": "stdout",
     "output_type": "stream",
     "text": [
      "epoch 84 132.82368432291122 309 0.42846349781584264\n"
     ]
    },
    {
     "name": "stderr",
     "output_type": "stream",
     "text": [
      "310it [00:00, 722.66it/s]\n"
     ]
    },
    {
     "name": "stdout",
     "output_type": "stream",
     "text": [
      "epoch 85 132.84987244255544 309 0.42854797562114655\n"
     ]
    },
    {
     "name": "stderr",
     "output_type": "stream",
     "text": [
      "310it [00:00, 720.91it/s]\n"
     ]
    },
    {
     "name": "stdout",
     "output_type": "stream",
     "text": [
      "epoch 86 132.5587241552991 309 0.427608787597739\n"
     ]
    },
    {
     "name": "stderr",
     "output_type": "stream",
     "text": [
      "310it [00:00, 715.23it/s]\n"
     ]
    },
    {
     "name": "stdout",
     "output_type": "stream",
     "text": [
      "epoch 87 132.57043095496218 309 0.42764655146761993\n"
     ]
    },
    {
     "name": "stderr",
     "output_type": "stream",
     "text": [
      "310it [00:00, 713.52it/s]\n"
     ]
    },
    {
     "name": "stdout",
     "output_type": "stream",
     "text": [
      "epoch 88 132.4852851114451 309 0.4273718874562745\n"
     ]
    },
    {
     "name": "stderr",
     "output_type": "stream",
     "text": [
      "310it [00:00, 720.38it/s]\n"
     ]
    },
    {
     "name": "stdout",
     "output_type": "stream",
     "text": [
      "epoch 89 133.04571346321768 309 0.4291797208490893\n"
     ]
    },
    {
     "name": "stderr",
     "output_type": "stream",
     "text": [
      "310it [00:00, 712.08it/s]\n"
     ]
    },
    {
     "name": "stdout",
     "output_type": "stream",
     "text": [
      "epoch 90 133.01167691054326 309 0.4290699255178815\n"
     ]
    },
    {
     "name": "stderr",
     "output_type": "stream",
     "text": [
      "310it [00:00, 726.06it/s]\n"
     ]
    },
    {
     "name": "stdout",
     "output_type": "stream",
     "text": [
      "epoch 91 132.8803299561089 309 0.42864622566486743\n"
     ]
    },
    {
     "name": "stderr",
     "output_type": "stream",
     "text": [
      "310it [00:00, 718.21it/s]\n"
     ]
    },
    {
     "name": "stdout",
     "output_type": "stream",
     "text": [
      "epoch 92 131.89523929418144 309 0.4254685138521982\n"
     ]
    },
    {
     "name": "stderr",
     "output_type": "stream",
     "text": [
      "310it [00:00, 712.86it/s]\n"
     ]
    },
    {
     "name": "stdout",
     "output_type": "stream",
     "text": [
      "epoch 93 131.44592069461487 309 0.42401909901488666\n"
     ]
    },
    {
     "name": "stderr",
     "output_type": "stream",
     "text": [
      "310it [00:00, 717.15it/s]\n"
     ]
    },
    {
     "name": "stdout",
     "output_type": "stream",
     "text": [
      "epoch 94 131.45124447968777 309 0.4240362725151218\n"
     ]
    },
    {
     "name": "stderr",
     "output_type": "stream",
     "text": [
      "310it [00:00, 723.23it/s]\n"
     ]
    },
    {
     "name": "stdout",
     "output_type": "stream",
     "text": [
      "epoch 95 131.22522228401306 309 0.42330716865810664\n"
     ]
    },
    {
     "name": "stderr",
     "output_type": "stream",
     "text": [
      "310it [00:00, 719.43it/s]\n"
     ]
    },
    {
     "name": "stdout",
     "output_type": "stream",
     "text": [
      "epoch 96 131.09510339593092 309 0.4228874303094546\n"
     ]
    },
    {
     "name": "stderr",
     "output_type": "stream",
     "text": [
      "310it [00:00, 714.39it/s]\n"
     ]
    },
    {
     "name": "stdout",
     "output_type": "stream",
     "text": [
      "epoch 97 132.09392214522376 309 0.4261094262749153\n"
     ]
    },
    {
     "name": "stderr",
     "output_type": "stream",
     "text": [
      "310it [00:00, 720.49it/s]\n"
     ]
    },
    {
     "name": "stdout",
     "output_type": "stream",
     "text": [
      "epoch 98 131.49683908582693 309 0.4241833518897643\n"
     ]
    },
    {
     "name": "stderr",
     "output_type": "stream",
     "text": [
      "310it [00:00, 712.30it/s]\n"
     ]
    },
    {
     "name": "stdout",
     "output_type": "stream",
     "text": [
      "epoch 99 131.75230418043176 309 0.42500743284010245\n"
     ]
    },
    {
     "name": "stderr",
     "output_type": "stream",
     "text": [
      "310it [00:00, 717.09it/s]\n"
     ]
    },
    {
     "name": "stdout",
     "output_type": "stream",
     "text": [
      "epoch 100 131.04353269013822 309 0.42272107319399427\n"
     ]
    },
    {
     "name": "stderr",
     "output_type": "stream",
     "text": [
      "310it [00:00, 716.06it/s]\n"
     ]
    },
    {
     "name": "stdout",
     "output_type": "stream",
     "text": [
      "epoch 101 130.74413830723014 309 0.42175528486203273\n"
     ]
    },
    {
     "name": "stderr",
     "output_type": "stream",
     "text": [
      "310it [00:00, 723.35it/s]\n"
     ]
    },
    {
     "name": "stdout",
     "output_type": "stream",
     "text": [
      "epoch 102 130.87948943118855 309 0.42219190139093077\n"
     ]
    },
    {
     "name": "stderr",
     "output_type": "stream",
     "text": [
      "310it [00:00, 728.36it/s]\n"
     ]
    },
    {
     "name": "stdout",
     "output_type": "stream",
     "text": [
      "epoch 103 130.6176759549765 309 0.4213473417902468\n"
     ]
    },
    {
     "name": "stderr",
     "output_type": "stream",
     "text": [
      "310it [00:00, 716.18it/s]\n"
     ]
    },
    {
     "name": "stdout",
     "output_type": "stream",
     "text": [
      "epoch 104 131.3895253934199 309 0.4238371786884513\n"
     ]
    },
    {
     "name": "stderr",
     "output_type": "stream",
     "text": [
      "310it [00:00, 718.14it/s]\n"
     ]
    },
    {
     "name": "stdout",
     "output_type": "stream",
     "text": [
      "epoch 105 130.4218519054922 309 0.42071565130803934\n"
     ]
    },
    {
     "name": "stderr",
     "output_type": "stream",
     "text": [
      "310it [00:00, 712.42it/s]\n"
     ]
    },
    {
     "name": "stdout",
     "output_type": "stream",
     "text": [
      "epoch 106 130.8321611868975 309 0.4220392296351533\n"
     ]
    },
    {
     "name": "stderr",
     "output_type": "stream",
     "text": [
      "310it [00:00, 726.76it/s]\n"
     ]
    },
    {
     "name": "stdout",
     "output_type": "stream",
     "text": [
      "epoch 107 130.763514408731 309 0.4218177884152613\n"
     ]
    },
    {
     "name": "stderr",
     "output_type": "stream",
     "text": [
      "310it [00:00, 721.44it/s]\n"
     ]
    },
    {
     "name": "stdout",
     "output_type": "stream",
     "text": [
      "epoch 108 129.996689226903 309 0.41934415879646125\n"
     ]
    },
    {
     "name": "stderr",
     "output_type": "stream",
     "text": [
      "310it [00:00, 715.74it/s]\n"
     ]
    },
    {
     "name": "stdout",
     "output_type": "stream",
     "text": [
      "epoch 109 130.88081965717478 309 0.4221961924424993\n"
     ]
    },
    {
     "name": "stderr",
     "output_type": "stream",
     "text": [
      "310it [00:00, 721.29it/s]\n"
     ]
    },
    {
     "name": "stdout",
     "output_type": "stream",
     "text": [
      "epoch 110 130.02245888572 309 0.419427286728129\n"
     ]
    },
    {
     "name": "stderr",
     "output_type": "stream",
     "text": [
      "310it [00:00, 710.89it/s]\n"
     ]
    },
    {
     "name": "stdout",
     "output_type": "stream",
     "text": [
      "epoch 111 130.34302033704685 309 0.42046135592595757\n"
     ]
    },
    {
     "name": "stderr",
     "output_type": "stream",
     "text": [
      "310it [00:00, 723.84it/s]\n"
     ]
    },
    {
     "name": "stdout",
     "output_type": "stream",
     "text": [
      "epoch 112 131.11529367738535 309 0.4229525602496302\n"
     ]
    },
    {
     "name": "stderr",
     "output_type": "stream",
     "text": [
      "310it [00:00, 716.06it/s]\n"
     ]
    },
    {
     "name": "stdout",
     "output_type": "stream",
     "text": [
      "epoch 113 131.07745798179238 309 0.42283050961868507\n"
     ]
    },
    {
     "name": "stderr",
     "output_type": "stream",
     "text": [
      "310it [00:00, 722.77it/s]\n"
     ]
    },
    {
     "name": "stdout",
     "output_type": "stream",
     "text": [
      "epoch 114 130.9478128055596 309 0.4224122993727729\n"
     ]
    },
    {
     "name": "stderr",
     "output_type": "stream",
     "text": [
      "310it [00:00, 722.11it/s]\n"
     ]
    },
    {
     "name": "stdout",
     "output_type": "stream",
     "text": [
      "epoch 115 130.28040143547395 309 0.4202593594692708\n"
     ]
    },
    {
     "name": "stderr",
     "output_type": "stream",
     "text": [
      "310it [00:00, 718.39it/s]\n"
     ]
    },
    {
     "name": "stdout",
     "output_type": "stream",
     "text": [
      "epoch 116 129.4603850115572 309 0.41761414519857165\n"
     ]
    },
    {
     "name": "stderr",
     "output_type": "stream",
     "text": [
      "310it [00:00, 726.17it/s]\n"
     ]
    },
    {
     "name": "stdout",
     "output_type": "stream",
     "text": [
      "epoch 117 129.6805340792338 309 0.4183243034813994\n"
     ]
    },
    {
     "name": "stderr",
     "output_type": "stream",
     "text": [
      "310it [00:00, 724.03it/s]\n"
     ]
    },
    {
     "name": "stdout",
     "output_type": "stream",
     "text": [
      "epoch 118 130.64930087219653 309 0.4214493576522469\n"
     ]
    },
    {
     "name": "stderr",
     "output_type": "stream",
     "text": [
      "310it [00:00, 715.65it/s]\n"
     ]
    },
    {
     "name": "stdout",
     "output_type": "stream",
     "text": [
      "epoch 119 130.31284758921427 309 0.42036402448133636\n"
     ]
    },
    {
     "name": "stderr",
     "output_type": "stream",
     "text": [
      "310it [00:00, 711.01it/s]\n"
     ]
    },
    {
     "name": "stdout",
     "output_type": "stream",
     "text": [
      "epoch 120 130.28220791296545 309 0.42026518681601754\n"
     ]
    },
    {
     "name": "stderr",
     "output_type": "stream",
     "text": [
      "310it [00:00, 725.24it/s]\n"
     ]
    },
    {
     "name": "stdout",
     "output_type": "stream",
     "text": [
      "epoch 121 130.06004800783856 309 0.41954854196076957\n"
     ]
    },
    {
     "name": "stderr",
     "output_type": "stream",
     "text": [
      "310it [00:00, 722.39it/s]\n"
     ]
    },
    {
     "name": "stdout",
     "output_type": "stream",
     "text": [
      "epoch 122 130.03209726375988 309 0.41945837827019317\n"
     ]
    },
    {
     "name": "stderr",
     "output_type": "stream",
     "text": [
      "310it [00:00, 721.91it/s]\n"
     ]
    },
    {
     "name": "stdout",
     "output_type": "stream",
     "text": [
      "epoch 123 129.63571676949027 309 0.41817973151448473\n"
     ]
    },
    {
     "name": "stderr",
     "output_type": "stream",
     "text": [
      "310it [00:00, 716.96it/s]\n"
     ]
    },
    {
     "name": "stdout",
     "output_type": "stream",
     "text": [
      "epoch 124 129.76654364753495 309 0.41860175370172564\n"
     ]
    },
    {
     "name": "stderr",
     "output_type": "stream",
     "text": [
      "310it [00:00, 712.24it/s]\n"
     ]
    },
    {
     "name": "stdout",
     "output_type": "stream",
     "text": [
      "epoch 125 130.21421598196486 309 0.42004585800633826\n"
     ]
    },
    {
     "name": "stderr",
     "output_type": "stream",
     "text": [
      "310it [00:00, 722.45it/s]\n"
     ]
    },
    {
     "name": "stdout",
     "output_type": "stream",
     "text": [
      "epoch 126 129.7069147885796 309 0.4184094025438052\n"
     ]
    },
    {
     "name": "stderr",
     "output_type": "stream",
     "text": [
      "310it [00:00, 718.78it/s]\n"
     ]
    },
    {
     "name": "stdout",
     "output_type": "stream",
     "text": [
      "epoch 127 129.5727849929115 309 0.41797672578358547\n"
     ]
    },
    {
     "name": "stderr",
     "output_type": "stream",
     "text": [
      "310it [00:00, 720.08it/s]\n"
     ]
    },
    {
     "name": "stdout",
     "output_type": "stream",
     "text": [
      "epoch 128 129.83385417145573 309 0.41881888442405074\n"
     ]
    },
    {
     "name": "stderr",
     "output_type": "stream",
     "text": [
      "310it [00:00, 719.64it/s]\n"
     ]
    },
    {
     "name": "stdout",
     "output_type": "stream",
     "text": [
      "epoch 129 129.6828514024422 309 0.41833177871755545\n"
     ]
    },
    {
     "name": "stderr",
     "output_type": "stream",
     "text": [
      "310it [00:00, 718.14it/s]\n"
     ]
    },
    {
     "name": "stdout",
     "output_type": "stream",
     "text": [
      "epoch 130 129.0836188016986 309 0.41639877032806\n"
     ]
    },
    {
     "name": "stderr",
     "output_type": "stream",
     "text": [
      "310it [00:00, 719.11it/s]\n"
     ]
    },
    {
     "name": "stdout",
     "output_type": "stream",
     "text": [
      "epoch 131 129.70025771034847 309 0.41838792809789827\n"
     ]
    },
    {
     "name": "stderr",
     "output_type": "stream",
     "text": [
      "310it [00:00, 716.37it/s]\n"
     ]
    },
    {
     "name": "stdout",
     "output_type": "stream",
     "text": [
      "epoch 132 129.90507355636856 309 0.4190486243753825\n"
     ]
    },
    {
     "name": "stderr",
     "output_type": "stream",
     "text": [
      "310it [00:00, 721.13it/s]\n"
     ]
    },
    {
     "name": "stdout",
     "output_type": "stream",
     "text": [
      "epoch 133 129.54597234410696 309 0.41789023336808695\n"
     ]
    },
    {
     "name": "stderr",
     "output_type": "stream",
     "text": [
      "310it [00:00, 717.44it/s]\n"
     ]
    },
    {
     "name": "stdout",
     "output_type": "stream",
     "text": [
      "epoch 134 128.9788623239492 309 0.4160608462062877\n"
     ]
    },
    {
     "name": "stderr",
     "output_type": "stream",
     "text": [
      "310it [00:00, 723.56it/s]\n"
     ]
    },
    {
     "name": "stdout",
     "output_type": "stream",
     "text": [
      "epoch 135 129.4273102517634 309 0.4175074524250432\n"
     ]
    },
    {
     "name": "stderr",
     "output_type": "stream",
     "text": [
      "310it [00:00, 714.04it/s]\n"
     ]
    },
    {
     "name": "stdout",
     "output_type": "stream",
     "text": [
      "epoch 136 129.3096363660338 309 0.41712785924527035\n"
     ]
    },
    {
     "name": "stderr",
     "output_type": "stream",
     "text": [
      "310it [00:00, 716.97it/s]\n"
     ]
    },
    {
     "name": "stdout",
     "output_type": "stream",
     "text": [
      "epoch 137 128.94217842523008 309 0.41594251104912927\n"
     ]
    },
    {
     "name": "stderr",
     "output_type": "stream",
     "text": [
      "310it [00:00, 714.06it/s]\n"
     ]
    },
    {
     "name": "stdout",
     "output_type": "stream",
     "text": [
      "epoch 138 128.68636356831936 309 0.41511730183328827\n"
     ]
    },
    {
     "name": "stderr",
     "output_type": "stream",
     "text": [
      "310it [00:00, 715.57it/s]\n"
     ]
    },
    {
     "name": "stdout",
     "output_type": "stream",
     "text": [
      "epoch 139 129.13988039549477 309 0.41658025934030574\n"
     ]
    },
    {
     "name": "stderr",
     "output_type": "stream",
     "text": [
      "310it [00:00, 708.01it/s]\n"
     ]
    },
    {
     "name": "stdout",
     "output_type": "stream",
     "text": [
      "epoch 140 129.30422446053555 309 0.4171104014855985\n"
     ]
    },
    {
     "name": "stderr",
     "output_type": "stream",
     "text": [
      "310it [00:00, 713.76it/s]\n"
     ]
    },
    {
     "name": "stdout",
     "output_type": "stream",
     "text": [
      "epoch 141 129.0123133296409 309 0.41616875267626097\n"
     ]
    },
    {
     "name": "stderr",
     "output_type": "stream",
     "text": [
      "310it [00:00, 714.33it/s]\n"
     ]
    },
    {
     "name": "stdout",
     "output_type": "stream",
     "text": [
      "epoch 142 128.7323858805916 309 0.41526576090513423\n"
     ]
    },
    {
     "name": "stderr",
     "output_type": "stream",
     "text": [
      "310it [00:00, 716.13it/s]\n"
     ]
    },
    {
     "name": "stdout",
     "output_type": "stream",
     "text": [
      "epoch 143 129.29667744992904 309 0.41708605629009365\n"
     ]
    },
    {
     "name": "stderr",
     "output_type": "stream",
     "text": [
      "310it [00:00, 712.54it/s]\n"
     ]
    },
    {
     "name": "stdout",
     "output_type": "stream",
     "text": [
      "epoch 144 129.1998776194695 309 0.4167737987724823\n"
     ]
    },
    {
     "name": "stderr",
     "output_type": "stream",
     "text": [
      "310it [00:00, 721.17it/s]\n"
     ]
    },
    {
     "name": "stdout",
     "output_type": "stream",
     "text": [
      "epoch 145 129.12366325157825 309 0.41652794597283305\n"
     ]
    },
    {
     "name": "stderr",
     "output_type": "stream",
     "text": [
      "310it [00:00, 718.21it/s]\n"
     ]
    },
    {
     "name": "stdout",
     "output_type": "stream",
     "text": [
      "epoch 146 129.49405229272674 309 0.41772274933137654\n"
     ]
    },
    {
     "name": "stderr",
     "output_type": "stream",
     "text": [
      "310it [00:00, 720.53it/s]\n"
     ]
    },
    {
     "name": "stdout",
     "output_type": "stream",
     "text": [
      "epoch 147 129.25104866549233 309 0.4169388666628785\n"
     ]
    },
    {
     "name": "stderr",
     "output_type": "stream",
     "text": [
      "310it [00:00, 707.93it/s]\n"
     ]
    },
    {
     "name": "stdout",
     "output_type": "stream",
     "text": [
      "epoch 148 129.34988624036944 309 0.41725769754957887\n"
     ]
    },
    {
     "name": "stderr",
     "output_type": "stream",
     "text": [
      "310it [00:00, 690.85it/s]\n"
     ]
    },
    {
     "name": "stdout",
     "output_type": "stream",
     "text": [
      "epoch 149 130.10846870022246 309 0.4197047377426531\n"
     ]
    },
    {
     "name": "stderr",
     "output_type": "stream",
     "text": [
      "310it [00:00, 714.45it/s]\n"
     ]
    },
    {
     "name": "stdout",
     "output_type": "stream",
     "text": [
      "epoch 150 129.4192484001853 309 0.41748144645221064\n"
     ]
    },
    {
     "name": "stderr",
     "output_type": "stream",
     "text": [
      "310it [00:00, 717.01it/s]\n"
     ]
    },
    {
     "name": "stdout",
     "output_type": "stream",
     "text": [
      "epoch 151 129.38538417782542 309 0.41737220702524325\n"
     ]
    },
    {
     "name": "stderr",
     "output_type": "stream",
     "text": [
      "310it [00:00, 719.21it/s]\n"
     ]
    },
    {
     "name": "stdout",
     "output_type": "stream",
     "text": [
      "epoch 152 128.0420101468665 309 0.41303874240924676\n"
     ]
    },
    {
     "name": "stderr",
     "output_type": "stream",
     "text": [
      "310it [00:00, 717.07it/s]\n"
     ]
    },
    {
     "name": "stdout",
     "output_type": "stream",
     "text": [
      "epoch 153 128.80800689760457 309 0.41550969966969215\n"
     ]
    },
    {
     "name": "stderr",
     "output_type": "stream",
     "text": [
      "310it [00:00, 713.90it/s]\n"
     ]
    },
    {
     "name": "stdout",
     "output_type": "stream",
     "text": [
      "epoch 154 128.72789520797647 309 0.41525127486444025\n"
     ]
    },
    {
     "name": "stderr",
     "output_type": "stream",
     "text": [
      "310it [00:00, 711.91it/s]\n"
     ]
    },
    {
     "name": "stdout",
     "output_type": "stream",
     "text": [
      "epoch 155 129.22625428246235 309 0.4168588847821366\n"
     ]
    },
    {
     "name": "stderr",
     "output_type": "stream",
     "text": [
      "310it [00:00, 716.70it/s]\n"
     ]
    },
    {
     "name": "stdout",
     "output_type": "stream",
     "text": [
      "epoch 156 128.75083399407242 309 0.4153252709486207\n"
     ]
    },
    {
     "name": "stderr",
     "output_type": "stream",
     "text": [
      "310it [00:00, 706.91it/s]\n"
     ]
    },
    {
     "name": "stdout",
     "output_type": "stream",
     "text": [
      "epoch 157 129.634823225839 309 0.41817684911560965\n"
     ]
    },
    {
     "name": "stderr",
     "output_type": "stream",
     "text": [
      "310it [00:00, 710.48it/s]\n"
     ]
    },
    {
     "name": "stdout",
     "output_type": "stream",
     "text": [
      "epoch 158 128.7889547254009 309 0.41544824104968037\n"
     ]
    },
    {
     "name": "stderr",
     "output_type": "stream",
     "text": [
      "310it [00:00, 717.38it/s]\n"
     ]
    },
    {
     "name": "stdout",
     "output_type": "stream",
     "text": [
      "epoch 159 129.67866767025043 309 0.41831828280725947\n"
     ]
    },
    {
     "name": "stderr",
     "output_type": "stream",
     "text": [
      "310it [00:00, 717.83it/s]\n"
     ]
    },
    {
     "name": "stdout",
     "output_type": "stream",
     "text": [
      "epoch 160 129.2611332522898 309 0.4169713975880316\n"
     ]
    },
    {
     "name": "stderr",
     "output_type": "stream",
     "text": [
      "310it [00:00, 705.48it/s]\n"
     ]
    },
    {
     "name": "stdout",
     "output_type": "stream",
     "text": [
      "epoch 161 129.45709739013472 309 0.4176035399681765\n"
     ]
    },
    {
     "name": "stderr",
     "output_type": "stream",
     "text": [
      "310it [00:00, 717.43it/s]\n"
     ]
    },
    {
     "name": "stdout",
     "output_type": "stream",
     "text": [
      "epoch 162 128.94060270427553 309 0.4159374280783082\n"
     ]
    },
    {
     "name": "stderr",
     "output_type": "stream",
     "text": [
      "310it [00:00, 722.80it/s]\n"
     ]
    },
    {
     "name": "stdout",
     "output_type": "stream",
     "text": [
      "epoch 163 128.95622149112936 309 0.4159878112617076\n"
     ]
    },
    {
     "name": "stderr",
     "output_type": "stream",
     "text": [
      "310it [00:00, 716.86it/s]\n"
     ]
    },
    {
     "name": "stdout",
     "output_type": "stream",
     "text": [
      "epoch 164 128.9152722530177 309 0.41585571694521833\n"
     ]
    },
    {
     "name": "stderr",
     "output_type": "stream",
     "text": [
      "310it [00:00, 719.57it/s]\n"
     ]
    },
    {
     "name": "stdout",
     "output_type": "stream",
     "text": [
      "epoch 165 129.02895015211368 309 0.416222419845528\n"
     ]
    },
    {
     "name": "stderr",
     "output_type": "stream",
     "text": [
      "310it [00:00, 706.35it/s]\n"
     ]
    },
    {
     "name": "stdout",
     "output_type": "stream",
     "text": [
      "epoch 166 128.79239306003615 309 0.4154593324517295\n"
     ]
    },
    {
     "name": "stderr",
     "output_type": "stream",
     "text": [
      "310it [00:00, 717.52it/s]\n"
     ]
    },
    {
     "name": "stdout",
     "output_type": "stream",
     "text": [
      "epoch 167 129.35023640546626 309 0.4172588271144073\n"
     ]
    },
    {
     "name": "stderr",
     "output_type": "stream",
     "text": [
      "310it [00:00, 719.95it/s]\n"
     ]
    },
    {
     "name": "stdout",
     "output_type": "stream",
     "text": [
      "epoch 168 129.03048142939167 309 0.41622735944965056\n"
     ]
    },
    {
     "name": "stderr",
     "output_type": "stream",
     "text": [
      "310it [00:00, 713.40it/s]\n"
     ]
    },
    {
     "name": "stdout",
     "output_type": "stream",
     "text": [
      "epoch 169 128.62287822312894 309 0.4149125103971901\n"
     ]
    },
    {
     "name": "stderr",
     "output_type": "stream",
     "text": [
      "310it [00:00, 717.64it/s]\n"
     ]
    },
    {
     "name": "stdout",
     "output_type": "stream",
     "text": [
      "epoch 170 129.0389630547618 309 0.4162547195314897\n"
     ]
    },
    {
     "name": "stderr",
     "output_type": "stream",
     "text": [
      "310it [00:00, 714.12it/s]\n"
     ]
    },
    {
     "name": "stdout",
     "output_type": "stream",
     "text": [
      "epoch 171 129.21970599848618 309 0.41683776128543926\n"
     ]
    },
    {
     "name": "stderr",
     "output_type": "stream",
     "text": [
      "310it [00:00, 710.39it/s]\n"
     ]
    },
    {
     "name": "stdout",
     "output_type": "stream",
     "text": [
      "epoch 172 128.73752698036233 309 0.415282345097943\n"
     ]
    },
    {
     "name": "stderr",
     "output_type": "stream",
     "text": [
      "310it [00:00, 716.29it/s]\n"
     ]
    },
    {
     "name": "stdout",
     "output_type": "stream",
     "text": [
      "epoch 173 129.7044067241141 309 0.4184013120132713\n"
     ]
    },
    {
     "name": "stderr",
     "output_type": "stream",
     "text": [
      "310it [00:00, 718.50it/s]\n"
     ]
    },
    {
     "name": "stdout",
     "output_type": "stream",
     "text": [
      "epoch 174 129.49150963338462 309 0.41771454720446655\n"
     ]
    },
    {
     "name": "stderr",
     "output_type": "stream",
     "text": [
      "310it [00:00, 722.11it/s]\n"
     ]
    },
    {
     "name": "stdout",
     "output_type": "stream",
     "text": [
      "epoch 175 128.8652838210458 309 0.41569446393885745\n"
     ]
    },
    {
     "name": "stderr",
     "output_type": "stream",
     "text": [
      "310it [00:00, 717.84it/s]\n"
     ]
    },
    {
     "name": "stdout",
     "output_type": "stream",
     "text": [
      "epoch 176 129.05181972817863 309 0.41629619267154394\n"
     ]
    },
    {
     "name": "stderr",
     "output_type": "stream",
     "text": [
      "310it [00:00, 715.70it/s]\n"
     ]
    },
    {
     "name": "stdout",
     "output_type": "stream",
     "text": [
      "epoch 177 129.40408452181964 309 0.41743253071554726\n"
     ]
    },
    {
     "name": "stderr",
     "output_type": "stream",
     "text": [
      "310it [00:00, 708.68it/s]\n"
     ]
    },
    {
     "name": "stdout",
     "output_type": "stream",
     "text": [
      "epoch 178 129.3585074049073 309 0.41728550775776546\n"
     ]
    },
    {
     "name": "stderr",
     "output_type": "stream",
     "text": [
      "310it [00:00, 715.63it/s]\n"
     ]
    },
    {
     "name": "stdout",
     "output_type": "stream",
     "text": [
      "epoch 179 128.83993869465723 309 0.41561270546663626\n"
     ]
    },
    {
     "name": "stderr",
     "output_type": "stream",
     "text": [
      "310it [00:00, 710.69it/s]\n"
     ]
    },
    {
     "name": "stdout",
     "output_type": "stream",
     "text": [
      "epoch 180 129.35049907294015 309 0.4172596744288392\n"
     ]
    },
    {
     "name": "stderr",
     "output_type": "stream",
     "text": [
      "310it [00:00, 720.08it/s]\n"
     ]
    },
    {
     "name": "stdout",
     "output_type": "stream",
     "text": [
      "epoch 181 129.16577828025666 309 0.41666380090405375\n"
     ]
    },
    {
     "name": "stderr",
     "output_type": "stream",
     "text": [
      "310it [00:00, 709.95it/s]\n"
     ]
    },
    {
     "name": "stdout",
     "output_type": "stream",
     "text": [
      "epoch 182 128.83154105046646 309 0.4155856162918273\n"
     ]
    },
    {
     "name": "stderr",
     "output_type": "stream",
     "text": [
      "310it [00:00, 717.07it/s]\n"
     ]
    },
    {
     "name": "stdout",
     "output_type": "stream",
     "text": [
      "epoch 183 129.06003930583606 309 0.41632270743818084\n"
     ]
    },
    {
     "name": "stderr",
     "output_type": "stream",
     "text": [
      "310it [00:00, 714.69it/s]\n"
     ]
    },
    {
     "name": "stdout",
     "output_type": "stream",
     "text": [
      "epoch 184 129.55111622428603 309 0.4179068265299549\n"
     ]
    },
    {
     "name": "stderr",
     "output_type": "stream",
     "text": [
      "310it [00:00, 718.07it/s]\n"
     ]
    },
    {
     "name": "stdout",
     "output_type": "stream",
     "text": [
      "epoch 185 128.6631071719463 309 0.4150422811998268\n"
     ]
    },
    {
     "name": "stderr",
     "output_type": "stream",
     "text": [
      "310it [00:00, 717.96it/s]\n"
     ]
    },
    {
     "name": "stdout",
     "output_type": "stream",
     "text": [
      "epoch 186 128.44856938994604 309 0.41435022383853565\n"
     ]
    },
    {
     "name": "stderr",
     "output_type": "stream",
     "text": [
      "310it [00:00, 716.49it/s]\n"
     ]
    },
    {
     "name": "stdout",
     "output_type": "stream",
     "text": [
      "epoch 187 129.3649489491513 309 0.4173062869327462\n"
     ]
    },
    {
     "name": "stderr",
     "output_type": "stream",
     "text": [
      "310it [00:00, 718.58it/s]\n"
     ]
    },
    {
     "name": "stdout",
     "output_type": "stream",
     "text": [
      "epoch 188 129.06338478938608 309 0.41633349932060026\n"
     ]
    },
    {
     "name": "stderr",
     "output_type": "stream",
     "text": [
      "310it [00:00, 718.89it/s]\n"
     ]
    },
    {
     "name": "stdout",
     "output_type": "stream",
     "text": [
      "epoch 189 128.81726133562503 309 0.41553955269556464\n"
     ]
    },
    {
     "name": "stderr",
     "output_type": "stream",
     "text": [
      "310it [00:00, 716.19it/s]\n"
     ]
    },
    {
     "name": "stdout",
     "output_type": "stream",
     "text": [
      "epoch 190 128.77026788577763 309 0.4153879609218633\n"
     ]
    },
    {
     "name": "stderr",
     "output_type": "stream",
     "text": [
      "310it [00:00, 717.51it/s]\n"
     ]
    },
    {
     "name": "stdout",
     "output_type": "stream",
     "text": [
      "epoch 191 128.82254544679807 309 0.41555659821547763\n"
     ]
    },
    {
     "name": "stderr",
     "output_type": "stream",
     "text": [
      "310it [00:00, 717.50it/s]\n"
     ]
    },
    {
     "name": "stdout",
     "output_type": "stream",
     "text": [
      "epoch 192 129.11807157975372 309 0.4165099083217862\n"
     ]
    },
    {
     "name": "stderr",
     "output_type": "stream",
     "text": [
      "310it [00:00, 725.23it/s]\n"
     ]
    },
    {
     "name": "stdout",
     "output_type": "stream",
     "text": [
      "epoch 193 128.2676727351562 309 0.41376668624243934\n"
     ]
    },
    {
     "name": "stderr",
     "output_type": "stream",
     "text": [
      "310it [00:00, 709.52it/s]\n"
     ]
    },
    {
     "name": "stdout",
     "output_type": "stream",
     "text": [
      "epoch 194 128.41751368888126 309 0.41425004415768146\n"
     ]
    },
    {
     "name": "stderr",
     "output_type": "stream",
     "text": [
      "310it [00:00, 718.67it/s]\n"
     ]
    },
    {
     "name": "stdout",
     "output_type": "stream",
     "text": [
      "epoch 195 128.80919980418895 309 0.41551354775544824\n"
     ]
    },
    {
     "name": "stderr",
     "output_type": "stream",
     "text": [
      "310it [00:00, 721.56it/s]\n"
     ]
    },
    {
     "name": "stdout",
     "output_type": "stream",
     "text": [
      "epoch 196 128.37425872603558 309 0.4141105120194696\n"
     ]
    },
    {
     "name": "stderr",
     "output_type": "stream",
     "text": [
      "310it [00:00, 716.27it/s]\n"
     ]
    },
    {
     "name": "stdout",
     "output_type": "stream",
     "text": [
      "epoch 197 128.57573419373028 309 0.4147604328830009\n"
     ]
    },
    {
     "name": "stderr",
     "output_type": "stream",
     "text": [
      "310it [00:00, 714.57it/s]\n"
     ]
    },
    {
     "name": "stdout",
     "output_type": "stream",
     "text": [
      "epoch 198 129.24442992398352 309 0.4169175158838178\n"
     ]
    },
    {
     "name": "stderr",
     "output_type": "stream",
     "text": [
      "310it [00:00, 711.43it/s]\n"
     ]
    },
    {
     "name": "stdout",
     "output_type": "stream",
     "text": [
      "epoch 199 128.12086866843256 309 0.41329312473687924\n",
      "finished in time 87.0692389011383\n"
     ]
    }
   ],
   "source": [
    "if torch.cuda.is_available():\n",
    "    device = \"cuda\"\n",
    "    print(\"using device\", torch.cuda.get_device_name(device))\n",
    "else:\n",
    "    device = \"cpu\"\n",
    "    \n",
    "#scrape and read\n",
    "c = Corpus(tokens)\n",
    "window_size = 30\n",
    "neg_samples = 60\n",
    "block_size = 1024\n",
    "\n",
    "PNS = PosNegSampler(c, window_size, neg_samples, block_size)\n",
    "V = len(PNS.C.vocab)\n",
    "print(\"vocab, device: \", V, device)\n",
    "\n",
    "training_generator = data.DataLoader(\n",
    "    PNS, batch_size = 1\n",
    ")\n",
    "\n",
    "\n",
    "#model parameters\n",
    "word_embedding_dim = 200\n",
    "epochs = 200\n",
    "learning_rate = 0.01\n",
    "\n",
    "\n",
    "# create the NN model\n",
    "net = Word2Vec(embedding_size=word_embedding_dim, vocab_size=V)\n",
    "net.to(device)\n",
    "net.train()\n",
    "net\n",
    "loss_function = nn.BCEWithLogitsLoss()\n",
    "\n",
    "optimizer = optim.Adam(net.parameters(), lr=learning_rate)\n",
    "\n",
    "\n",
    "start_t = time.time()\n",
    "for e in range(epochs):\n",
    "    running_loss = 0\n",
    "    for bidx, (targets, contexts, labels) in enumerate(\n",
    "        tqdm(training_generator)):\n",
    "        \n",
    "        targets = targets.flatten().to(device)\n",
    "        contexts = contexts.flatten().to(device)\n",
    "        labels = labels.flatten().to(device)\n",
    "        \n",
    "        net.zero_grad()\n",
    "        preds = net(targets, contexts, labels)\n",
    "        loss = loss_function(preds, labels)\n",
    "        loss.backward()\n",
    "        optimizer.step()\n",
    "        running_loss += loss.item()\n",
    "    print(\"epoch\", e, running_loss, bidx, running_loss / (bidx + 1))\n",
    "    \n",
    "end_t = time.time()\n",
    "print(\"finished in time\", end_t - start_t)\n",
    "\n",
    "\n",
    "for mode in ['avg', 'target', 'context']:\n",
    "    output_file = \"./word_embeds.vec\"\n",
    "    net.save_embeddings(output_file, PNS.C.idx_to_word)"
   ]
  },
  {
   "cell_type": "code",
   "execution_count": null,
   "id": "5be42b99-12a0-4ea7-97ac-c35ed6ce6b71",
   "metadata": {},
   "outputs": [
    {
     "name": "stdout",
     "output_type": "stream",
     "text": [
      "(15322, 200)\n"
     ]
    },
    {
     "name": "stderr",
     "output_type": "stream",
     "text": [
      " 22%|██▏       | 3349/15322 [06:24<22:57,  8.69it/s]"
     ]
    }
   ],
   "source": [
    "class TextGenerate(nn.Module):\n",
    "    def __init__(self, C, word_embed_file, lstm_dim, embedding_dim, num_layers):\n",
    "        super(TextGenerate, self).__init__()\n",
    "        self.lstm_dim = lstm_dim\n",
    "        self.embedding_dim = embedding_dim\n",
    "        self.num_layers = num_layers\n",
    "        n_vocab = len(C)\n",
    "        \n",
    "        embeddings_index = {}\n",
    "        with open(word_embed_file) as f:\n",
    "            for line in f: \n",
    "                values = line.split()\n",
    "                word = values[0]\n",
    "                coefs = np.asarray(values[1:], dtype='float32')\n",
    "                embeddings_index[word] = coefs\n",
    "        embeddings_matrix = np.zeros((n_vocab, embedding_dim))\n",
    "        for word, i in C.word_to_idx.items():\n",
    "            embedding_vector = embeddings_index.get(word)\n",
    "            if(embedding_vector is not None):\n",
    "                embeddings_matrix[i] = embedding_vector\n",
    "        print(embeddings_matrix.shape)\n",
    "        \n",
    "        self.embedding = nn.Embedding(num_embeddings=n_vocab,\n",
    "            embedding_dim=self.embedding_dim, _weight=torch.Tensor(embeddings_matrix))\n",
    "        self.embedding.requires_grad = False\n",
    "        self.lstm = nn.LSTM(input_size = self.lstm_dim, hidden_size = self.lstm_dim, num_layers = self.num_layers, dropout=0.2)\n",
    "        self.fc = nn.Linear(self.lstm_dim, n_vocab)\n",
    "        self.relu = nn.ReLU()\n",
    "        self.fc2 = nn.Linear(n_vocab, n_vocab)\n",
    "        \n",
    "    def forward(self, x, prev_state):\n",
    "        embed = self.embedding(x)\n",
    "        output, state = self.lstm(embed, prev_state)\n",
    "        logits = self.fc(output)\n",
    "        logits = self.relu(logits)\n",
    "        logits = self.fc2(logits)\n",
    "        return logits, state\n",
    "        \n",
    "    def init_state(self, sequence_length):\n",
    "        return (torch.zeros(self.num_layers, sequence_length, self.lstm_dim), torch.zeros(self.num_layers, sequence_length, self.lstm_dim))\n",
    "        \n",
    "\n",
    "\n",
    "training_generator = data.DataLoader(\n",
    "    c, batch_size = 1\n",
    ")\n",
    "\n",
    "\n",
    "\n",
    "\n",
    "\n",
    "#model parameters\n",
    "word_embedding_dim = 200\n",
    "epochs = 5\n",
    "learning_rate = 0.01\n",
    "\n",
    "\n",
    "# create the NN model\n",
    "net2 = TextGenerate(c, './word_embeds.vec', word_embedding_dim, word_embedding_dim, 6)\n",
    "net2.to(device)\n",
    "\n",
    "loss_function = nn.CrossEntropyLoss()\n",
    "optimizer = optim.Adam(net2.parameters(), lr=learning_rate)\n",
    "net2.train()\n",
    "net2\n",
    "\n",
    "start_t = time.time()\n",
    "for e in range(epochs):\n",
    "    running_loss = 0\n",
    "    state_h, state_c = net2.init_state(10)\n",
    "    state_h = state_h.to(device)\n",
    "    state_c = state_c.to(device)\n",
    "    for bidx, (x, y) in enumerate(tqdm(training_generator)):\n",
    "        net2.zero_grad()\n",
    "        x = x.to(device)\n",
    "        y = y.to(device)\n",
    "        if(x.shape[1] != 10 or y.shape[1] != 10):\n",
    "            continue\n",
    "        y_pred, (state_h, state_c) = net2(x, (state_h, state_c))\n",
    "        loss = loss_function(y_pred.transpose(1, 2), y)\n",
    "        \n",
    "        state_h = state_h.detach()\n",
    "        state_c = state_c.detach()\n",
    "            \n",
    "        loss.backward()\n",
    "        optimizer.step()\n",
    "        running_loss += loss.item()\n",
    "    print(\"epoch\", e, running_loss, bidx, running_loss / (bidx + 1))\n",
    "    \n",
    "end_t = time.time()\n",
    "print(\"finished in time\", end_t - start_t)\n",
    "      "
   ]
  },
  {
   "cell_type": "code",
   "execution_count": null,
   "id": "c1910b03-19b4-4668-8a9a-05ceea8f16f8",
   "metadata": {},
   "outputs": [],
   "source": [
    "def getResponse(question, num_words_response):\n",
    "    text = question\n",
    "    next_words = num_words_response\n",
    "    words = text.split(' ')\n",
    "    output = []\n",
    "    state_h, state_c = net2.init_state(len(words))\n",
    "    state_h = state_h.to(device)\n",
    "    state_c = state_c.to(device)\n",
    "    last_word = ''\n",
    "    with torch.no_grad():\n",
    "        for i in range(0, next_words):\n",
    "            x = torch.tensor([[c.word_to_idx[w] for w in words[i:]]])\n",
    "            x = x.to(device)\n",
    "            y_pred, (state_h, state_c) = net2(x, (state_h, state_c))\n",
    "\n",
    "            last_word_logits = y_pred[0][-1]\n",
    "            p = torch.nn.functional.softmax(last_word_logits, dim=0).cpu().numpy()\n",
    "            word_index = np.random.choice(len(last_word_logits), p=p)\n",
    "            last_word = c.idx_to_word[word_index]\n",
    "            while(c.idx_to_word[word_index] == last_word):\n",
    "                word_index = np.random.choice(len(last_word_logits), p=p)\n",
    "                new_last_word = c.idx_to_word[word_index]\n",
    "                new_last_word = str(new_last_word)\n",
    "                if(len(new_last_word) == 1 and new_last_word != 'a'):\n",
    "                    continue\n",
    "                if(new_last_word != last_word):\n",
    "                    last_word = new_last_word\n",
    "                    break\n",
    "\n",
    "            words.append(last_word)\n",
    "            output.append(last_word)\n",
    "    return output\n"
   ]
  },
  {
   "cell_type": "code",
   "execution_count": null,
   "id": "3f45b8d3-6494-4e1d-8274-7554d2b52a41",
   "metadata": {},
   "outputs": [],
   "source": [
    "#### MACHINE INTERROGATER TURING MACHINE MODEL ####\n",
    "\n",
    "\n",
    "## GENERATE POS/NEG SAMPLES ##\n",
    "#POS 1 = Machine generated response\n",
    "#NEG 0 = Human generated response\n",
    "\n",
    "class Responses(torch.utils.data.IterableDataset):\n",
    "    def __init__(self, C, _csv, _chunk_size, pad_sz):\n",
    "        self.csv = _csv\n",
    "        self.C = C\n",
    "        self.chunk_size = _chunk_size\n",
    "        self.pad_sz = pad_sz\n",
    "    \n",
    "    \n",
    "    def generateMachineResponse(self, question, response_size=15):\n",
    "        return getResponse(question, response_size)\n",
    "    \n",
    "    def __len__(self):\n",
    "        return 38269/self.chunk_size\n",
    "    \n",
    "    def __iter__(self):\n",
    "        self.bidx = 0\n",
    "        self.data = pd.read_csv(self.csv, chunksize=self.chunk_size)\n",
    "        return self\n",
    "    \n",
    "    def padout(self, questions, answers):\n",
    "        \n",
    "        padded_questions = []\n",
    "        padded_answers = []\n",
    "        for question in questions:\n",
    "            question = np.array(question)\n",
    "            padright = self.pad_sz - len(question)\n",
    "            if(padright < 0):\n",
    "                padded_questions.append(question[0:self.pad_sz])\n",
    "            else:\n",
    "                padded_questions.append(np.pad(question, (0, padright), 'constant', constant_values=(0)))\n",
    "                \n",
    "        for answer in answers:\n",
    "            answer = np.array(answer)\n",
    "            padright = self.pad_sz - len(answer)\n",
    "            if(padright < 0):\n",
    "                padded_answers.append(answer[0:self.pad_sz])\n",
    "            else:\n",
    "                padded_answers.append(np.pad(answer, (0, padright), 'constant', constant_values=(0)))\n",
    "                \n",
    "        return padded_questions, padded_answers\n",
    "                \n",
    "        \n",
    "    def __next__(self):\n",
    "        chunk_to_process = next(iter(self.data))\n",
    "        questions = []\n",
    "        answers = []\n",
    "        labels = []\n",
    "        \n",
    "        #get text\n",
    "        for question in chunk_to_process['Question'].tolist():\n",
    "            questions.append([self.C.word_to_idx[x] for x in question.split(' ')])\n",
    "            \n",
    "        for answer in chunk_to_process['Answer'].tolist():\n",
    "            answer = str(answer)\n",
    "            answers.append([self.C.word_to_idx[x] for x in answer.split(' ')])\n",
    "            \n",
    "        labels.append([1 for x in range(self.chunk_size)])\n",
    "        \n",
    "        \n",
    "        for question in chunk_to_process['Question'].tolist():\n",
    "            questions.append([self.C.word_to_idx[x] for x in question.split(' ')])\n",
    "            answers.append([self.C.word_to_idx[x] for x in self.generateMachineResponse(question)])\n",
    "            \n",
    "        labels.append([0 for x in range(self.chunk_size)])\n",
    "        \n",
    "        questions, answers = self.padout(questions, answers)\n",
    "        \n",
    "        return torch.cat((torch.Tensor(np.array(questions)), torch.Tensor(np.array(answers))), axis=1), torch.Tensor(labels)\n",
    "        \n",
    "        \n",
    "\n",
    "    \n",
    "\n",
    "\n",
    "\n"
   ]
  },
  {
   "cell_type": "code",
   "execution_count": null,
   "id": "8c13ac12-7882-406b-8d30-a4936ec0f5e1",
   "metadata": {},
   "outputs": [],
   "source": [
    "class MachineInterrogator(nn.Module):\n",
    "    def __init__(self, indim, hiddim, num_layers, dpout=0.15, bidir=False):\n",
    "        super(MachineInterrogator, self).__init__()\n",
    "        self.ind = indim\n",
    "        self.hid = hiddim\n",
    "        self.num_layers = num_layers\n",
    "        self.dropout = dpout\n",
    "        self.bidir = bidir\n",
    "        self.lstm = nn.LSTM(self.ind, self.hid, num_layers, dropout=self.dropout, bidirectional=bidir, batch_first=True)\n",
    "        self.lim = nn.Linear(in_features=self.hid, out_features=1, bias=True)\n",
    "    def forward(self, x):\n",
    "        h0 = torch.zeros(self.num_layers, x.size(0), self.hid).to(device)\n",
    "        c0 = torch.zeros(self.num_layers, x.size(0), self.hid).to(device)\n",
    "        x, _= self.lstm(x, (h0, c0))\n",
    "        x = self.lim(x)\n",
    "        return x"
   ]
  },
  {
   "cell_type": "code",
   "execution_count": null,
   "id": "b2af5851-9ff5-4590-bd0d-e8196cf105e5",
   "metadata": {},
   "outputs": [],
   "source": [
    "r = Responses(c, './half_jokes.csv', 1, 20)\n",
    "batch_size = 100\n",
    "dataset_size = 10000\n",
    "training_generator = data.DataLoader(\n",
    "    r, batch_size = batch_size\n",
    ")\n",
    "\n",
    "\n",
    "#model parameters\n",
    "input_dim = 40\n",
    "epochs = 5\n",
    "learning_rate = 0.01\n",
    "\n",
    "\n",
    "# create the NN model\n",
    "net3 = MachineInterrogator(input_dim, 128, 2)\n",
    "net3 = net3.to(device)\n",
    "\n",
    "loss_function = nn.BCEWithLogitsLoss()\n",
    "optimizer = optim.Adam(net3.parameters(), lr=learning_rate)\n",
    "net3.train()\n",
    "\n"
   ]
  },
  {
   "cell_type": "code",
   "execution_count": null,
   "id": "747f954a-7d90-4e1d-8be9-01b271d50fd4",
   "metadata": {},
   "outputs": [],
   "source": [
    "start_t = time.time()\n",
    "for e in range(epochs):\n",
    "    correct = 0\n",
    "    total = 0\n",
    "    for bidx, (feats, labels) in enumerate(tqdm(training_generator, total=dataset_size//batch_size)):\n",
    "        net3.zero_grad()\n",
    "        feats = feats.to(device)\n",
    "        labels = labels.to(device)\n",
    "        \n",
    "        preds = net3(feats)\n",
    "        loss = loss_function(preds, labels)\n",
    "        \n",
    "        preds = torch.round(torch.sigmoid(preds))\n",
    "        \n",
    "        loss.backward()\n",
    "        optimizer.step()\n",
    "\n",
    "        correct += (preds == labels).sum().item()\n",
    "        total += len(preds)\n",
    "        \n",
    "    print(\"epoch\", e, \" acc: \", correct / (total * 2))\n",
    "    \n",
    "end_t = time.time()\n",
    "print(\"finished in time\", end_t - start_t)\n",
    "      "
   ]
  },
  {
   "cell_type": "code",
   "execution_count": null,
   "id": "5379f549-aa4f-47cf-b482-5891fbe930d1",
   "metadata": {},
   "outputs": [],
   "source": []
  }
 ],
 "metadata": {
  "kernelspec": {
   "display_name": "d2l:Python",
   "language": "python",
   "name": "conda-env-d2l-py"
  },
  "language_info": {
   "codemirror_mode": {
    "name": "ipython",
    "version": 3
   },
   "file_extension": ".py",
   "mimetype": "text/x-python",
   "name": "python",
   "nbconvert_exporter": "python",
   "pygments_lexer": "ipython3",
   "version": "3.9.9"
  }
 },
 "nbformat": 4,
 "nbformat_minor": 5
}
